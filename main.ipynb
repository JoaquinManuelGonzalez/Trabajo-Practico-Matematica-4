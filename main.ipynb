{
 "cells": [
  {
   "cell_type": "markdown",
   "id": "a03369d0-a4dd-480c-b2e1-5702915ef549",
   "metadata": {},
   "source": [
    "# Entrega Análisis y Regresión Lineal - 2025\n",
    "\n",
    "## Integrantes:\n",
    "\n",
    "- Defelipe, Bianca Eugenia - Legajo: 21341/7.\n",
    "- Gonzalez, Joaquín Manuel - Legajo: 21247/1.\n",
    "- Loyola, Yanella Nicole - Legajo: 20912/8.\n",
    "\n",
    "## Dataset Elegido\n",
    "\n",
    "El Dataset *Obesity Levels Based On Eating Habits and Physical Activites* fue elegido por contener los suficientes atributos **númericos continuos** para el adecuado **análisis estadístico y matemático** que es requerido para satisfacer los objetivos de la **entrega asignada**.\n",
    "\n",
    "### Sobre los atributos del Dataset\n",
    "\n",
    "El dataset presenta una combinación equilibrada de **variables continuas, binarias y categóricas**, que permiten realizar un análisis de los factores asociados al nivel de obesidad. Entre sus atributos destacan **variables continuas** como la **edad, altura, peso, cantidad de agua consumida y frecuencia de actividad física**, las cuales son adecuadas para la aplicación de métodos de regresión lineal.\n",
    "\n",
    "### Motivación Personal \n",
    "\n",
    "La **motivación principal** que nos hizo elegir este dataset como grupo radica en que la obesidad es actualmente uno de los principales problemas de salud pública a nivel mundial, con consecuencias tanto físicas como psicológicas."
   ]
  },
  {
   "cell_type": "code",
   "execution_count": null,
   "id": "8f03cc69-bd85-47da-9e52-b40856746bbf",
   "metadata": {},
   "outputs": [],
   "source": []
  },
  {
   "cell_type": "code",
   "execution_count": null,
   "id": "4eda5408-9d8d-439e-83a2-7827ddd5412f",
   "metadata": {},
   "outputs": [],
   "source": []
  }
 ],
 "metadata": {
  "kernelspec": {
   "display_name": "Python 3 (ipykernel)",
   "language": "python",
   "name": "python3"
  },
  "language_info": {
   "codemirror_mode": {
    "name": "ipython",
    "version": 3
   },
   "file_extension": ".py",
   "mimetype": "text/x-python",
   "name": "python",
   "nbconvert_exporter": "python",
   "pygments_lexer": "ipython3",
   "version": "3.12.3"
  }
 },
 "nbformat": 4,
 "nbformat_minor": 5
}
